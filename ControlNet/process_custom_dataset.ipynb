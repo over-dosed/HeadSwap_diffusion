{
 "cells": [
  {
   "cell_type": "code",
   "execution_count": 1,
   "metadata": {},
   "outputs": [],
   "source": [
    "import os\n",
    "os.environ[\"CUDA_VISIBLE_DEVICES\"] = \"0\"\n",
    "import numpy as np\n",
    "import torch\n",
    "from PIL import Image\n",
    "\n",
    "from DataPreprocess.getBBox import get_BBox\n",
    "from DataPreprocess.detect3DMM import detect_3dmm\n",
    "\n",
    "root_path = '/data1/wc_log/zxy/custom_dataset/jjk_video_1'\n",
    "save_path = '/data1/wc_log/zxy/custom_dataset/jjk_video_1/train_1'"
   ]
  },
  {
   "cell_type": "code",
   "execution_count": 2,
   "metadata": {},
   "outputs": [
    {
     "name": "stderr",
     "output_type": "stream",
     "text": [
      "/home/wenchi/miniconda3/envs/diffusion/lib/python3.9/site-packages/torchvision/models/_utils.py:208: UserWarning: The parameter 'pretrained' is deprecated since 0.13 and may be removed in the future, please use 'weights' instead.\n",
      "  warnings.warn(\n",
      "/home/wenchi/miniconda3/envs/diffusion/lib/python3.9/site-packages/torchvision/models/_utils.py:223: UserWarning: Arguments other than a weight enum or `None` for 'weights' are deprecated since 0.13 and may be removed in the future. The current behavior is equivalent to passing `weights=None`.\n",
      "  warnings.warn(msg)\n"
     ]
    },
    {
     "name": "stdout",
     "output_type": "stream",
     "text": [
      "creating the FLAME Decoder\n",
      "trained model found. load /home/wenchi/zxy/HSD/ControlNet/utils/DECA/data/deca_model.tar\n"
     ]
    },
    {
     "name": "stderr",
     "output_type": "stream",
     "text": [
      "/home/wenchi/miniconda3/envs/diffusion/lib/python3.9/site-packages/pytorch3d/io/obj_io.py:548: UserWarning: Mtl file does not exist: /home/wenchi/zxy/HSD/ControlNet/utils/DECA/data/template.mtl\n",
      "  warnings.warn(f\"Mtl file does not exist: {f}\")\n"
     ]
    }
   ],
   "source": [
    "from modules.ConditionBranch import Condition_Branch\n",
    "from face_alignment.detection.sfd.sfd_detector import SFDDetector\n",
    "\n",
    "# get face detector\n",
    "face_detector = SFDDetector(device='cuda')\n",
    "\n",
    "# get condition_Branch\n",
    "condition_branch = Condition_Branch()"
   ]
  },
  {
   "cell_type": "code",
   "execution_count": 4,
   "metadata": {},
   "outputs": [],
   "source": [
    "# get all images from root_path dir\n",
    "image_names = os.listdir(root_path)\n",
    "image_names = sorted(image_names)\n",
    "image_paths = [os.path.join(root_path, image) for image in image_names]\n",
    "\n",
    "image_nums = len(image_paths)\n",
    "\n",
    "# make dir path\n",
    "if root_path != save_path :\n",
    "    os.makedirs(save_path, exist_ok=True)\n",
    "\n",
    "imgs_numpy_list = [np.asarray(Image.open(imagepath).convert(\"RGB\").resize((512, 512))) for imagepath in image_paths]\n",
    "imgs_numpy = np.asarray(imgs_numpy_list).transpose(0, 3, 1, 2) # (all, 3, H, W)\n",
    "imgs_tensor = torch.from_numpy(imgs_numpy)\n",
    "batch_size = image_nums\n",
    "\n",
    "# get bbox\n",
    "bboxlist = get_BBox(imgs_tensor, face_detector, batch_size=batch_size) # (2, 4)\n",
    "\n",
    "# get 3DMM dict\n",
    "dict_3DMM = detect_3dmm(bboxlist, imgs_numpy, condition_branch.deca, save_folder_path = save_path, batch_size = batch_size) # source, target\n",
    "\n",
    "# save images\n",
    "if root_path != save_path :\n",
    "    for i in range(image_nums):\n",
    "        image = Image.fromarray(imgs_numpy_list[i])\n",
    "        image.save(os.path.join(save_path, '{}.png'.format(str(i).zfill(8))))"
   ]
  },
  {
   "cell_type": "code",
   "execution_count": null,
   "metadata": {},
   "outputs": [],
   "source": []
  }
 ],
 "metadata": {
  "kernelspec": {
   "display_name": "diffusion",
   "language": "python",
   "name": "python3"
  },
  "language_info": {
   "codemirror_mode": {
    "name": "ipython",
    "version": 3
   },
   "file_extension": ".py",
   "mimetype": "text/x-python",
   "name": "python",
   "nbconvert_exporter": "python",
   "pygments_lexer": "ipython3",
   "version": "3.9.15"
  },
  "orig_nbformat": 4
 },
 "nbformat": 4,
 "nbformat_minor": 2
}
